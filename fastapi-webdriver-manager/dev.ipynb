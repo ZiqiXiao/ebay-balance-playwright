{
 "cells": [
  {
   "cell_type": "code",
   "execution_count": 1,
   "id": "initial_id",
   "metadata": {
    "ExecuteTime": {
     "end_time": "2023-09-14T05:52:51.277646Z",
     "start_time": "2023-09-14T05:52:51.199577Z"
    },
    "collapsed": true
   },
   "outputs": [
    {
     "name": "stdout",
     "output_type": "stream",
     "text": [
      "Jessica\n",
      "Reynolds\n",
      "gthompson@nuyy.cc\n",
      "Aa112112!\n"
     ]
    }
   ],
   "source": [
    "from faker import Faker\n",
    "\n",
    "fake = Faker()\n",
    "print(fake.first_name())\n",
    "print(fake.last_name())\n",
    "print(fake.email().split('@')[0] + '@nuyy.cc')\n",
    "print('Aa112112!')"
   ]
  },
  {
   "cell_type": "code",
   "execution_count": 2,
   "id": "53988d9fa959c116",
   "metadata": {
    "ExecuteTime": {
     "end_time": "2023-09-14T05:53:05.025650Z",
     "start_time": "2023-09-14T05:53:04.820274Z"
    },
    "collapsed": false
   },
   "outputs": [
    {
     "ename": "ModuleNotFoundError",
     "evalue": "No module named 'redis'",
     "output_type": "error",
     "traceback": [
      "\u001b[0;31m---------------------------------------------------------------------------\u001b[0m",
      "\u001b[0;31mModuleNotFoundError\u001b[0m                       Traceback (most recent call last)",
      "Cell \u001b[0;32mIn[2], line 1\u001b[0m\n\u001b[0;32m----> 1\u001b[0m \u001b[38;5;28;01mimport\u001b[39;00m \u001b[38;5;21;01mredis\u001b[39;00m\n",
      "\u001b[0;31mModuleNotFoundError\u001b[0m: No module named 'redis'"
     ]
    }
   ],
   "source": [
    "import redis"
   ]
  },
  {
   "cell_type": "code",
   "execution_count": 34,
   "id": "8c55c3355c534c6c",
   "metadata": {
    "ExecuteTime": {
     "end_time": "2023-09-08T09:11:09.662763Z",
     "start_time": "2023-09-08T09:11:09.459337Z"
    },
    "collapsed": false
   },
   "outputs": [
    {
     "name": "stdout",
     "output_type": "stream",
     "text": [
      "763 Rodriguez Wall Suite 845\n"
     ]
    }
   ],
   "source": [
    "print(fake.address().split('\\n')[0])"
   ]
  },
  {
   "cell_type": "code",
   "execution_count": 58,
   "id": "7abe5778f9d129e1",
   "metadata": {
    "ExecuteTime": {
     "end_time": "2023-09-14T05:52:01.596505Z",
     "start_time": "2023-09-14T05:52:01.595834Z"
    },
    "collapsed": false
   },
   "outputs": [
    {
     "name": "stdout",
     "output_type": "stream",
     "text": [
      "4254373948\n"
     ]
    }
   ],
   "source": [
    "print(fake.msisdn()[3:])"
   ]
  },
  {
   "cell_type": "code",
   "execution_count": 28,
   "id": "dc27a25553397d9d",
   "metadata": {
    "ExecuteTime": {
     "end_time": "2023-09-07T09:37:50.355750Z",
     "start_time": "2023-09-07T09:37:50.028252Z"
    },
    "collapsed": false
   },
   "outputs": [],
   "source": [
    "from datetime import datetime\n",
    "a = datetime.now().strftime(\"%Y-%m-%d %H:%M:%S\")"
   ]
  },
  {
   "cell_type": "code",
   "execution_count": 29,
   "id": "f22bc5c8f9a63cc3",
   "metadata": {
    "ExecuteTime": {
     "end_time": "2023-09-07T09:37:51.246294Z",
     "start_time": "2023-09-07T09:37:51.148764Z"
    },
    "collapsed": false
   },
   "outputs": [
    {
     "data": {
      "text/plain": [
       "2"
      ]
     },
     "execution_count": 29,
     "metadata": {},
     "output_type": "execute_result"
    }
   ],
   "source": [
    "dif = datetime.now() - datetime.strptime(a, \"%Y-%m-%d %H:%M:%S\")\n",
    "dif.seconds"
   ]
  },
  {
   "cell_type": "code",
   "execution_count": 51,
   "id": "2c34ee27bc769e85",
   "metadata": {
    "ExecuteTime": {
     "end_time": "2023-09-24T13:18:56.173265Z",
     "start_time": "2023-09-24T13:18:55.475791Z"
    },
    "collapsed": false
   },
   "outputs": [],
   "source": [
    "import imaplib\n",
    "import re\n",
    "\n",
    "EMAIL_SERVER = 'mail.nuyy.cc'\n",
    "EMAIL_USERNAME = 'mail@nuyy.cc'\n",
    "EMAIL_PASSWORD = 'Aa112112!'\n",
    "\n",
    "server = imaplib.IMAP4_SSL(EMAIL_SERVER)\n",
    "\n",
    "# 登录\n",
    "server.login(EMAIL_USERNAME, EMAIL_PASSWORD)\n",
    "\n",
    "# 选择邮箱\n",
    "server.select(\"inbox\")\n",
    "\n",
    "# 搜索邮件\n",
    "status, messages = server.search(None, '(SUBJECT \"Your eBay security code\" TO \"sarah98@nuyy.cc\")')\n",
    "\n",
    "# 获取邮件 ID 列表\n",
    "email_ids = messages[0].split()\n",
    "\n",
    "# 获取最新的电子邮件 ID\n",
    "latest_email_id = email_ids[-1]\n",
    "\n",
    "# 获取邮件详情\n",
    "status, msg_data = server.fetch(latest_email_id, \"(BODY[HEADER.FIELDS (SUBJECT)])\")\n",
    "\n",
    "match = re.search(r'(?<!\\d)\\d{6}(?!\\d)', msg_data[0][1].decode('utf-8'))\n",
    "if match:\n",
    "    verification_code = match.group()\n",
    "else:\n",
    "    verification_code = None"
   ]
  },
  {
   "cell_type": "code",
   "execution_count": 4,
   "id": "9b54a8a8",
   "metadata": {},
   "outputs": [
    {
     "name": "stdout",
     "output_type": "stream",
     "text": [
      "Start Get Verification Code...\n"
     ]
    },
    {
     "name": "stdout",
     "output_type": "stream",
     "text": [
      "Criteria: (SUBJECT \"Your eBay security code\" TO \"ballardchrtzpatrckj28616@nuyy.cc\")\n"
     ]
    },
    {
     "ename": "IndexError",
     "evalue": "list index out of range",
     "output_type": "error",
     "traceback": [
      "\u001b[0;31m---------------------------------------------------------------------------\u001b[0m",
      "\u001b[0;31mIndexError\u001b[0m                                Traceback (most recent call last)",
      "\u001b[1;32m/workspaces/ebay-balance/fastapi-webdriver-manager/dev.ipynb Cell 8\u001b[0m line \u001b[0;36m3\n\u001b[1;32m     <a href='vscode-notebook-cell://attached-container%2B7b22636f6e7461696e65724e616d65223a222f66756e6e795f736e79646572227d@ssh-remote%2B64.176.210.156/workspaces/ebay-balance/fastapi-webdriver-manager/dev.ipynb#X32sdnNjb2RlLXJlbW90ZQ%3D%3D?line=26'>27</a>\u001b[0m email_ids \u001b[39m=\u001b[39m messages[\u001b[39m0\u001b[39m]\u001b[39m.\u001b[39msplit()\n\u001b[1;32m     <a href='vscode-notebook-cell://attached-container%2B7b22636f6e7461696e65724e616d65223a222f66756e6e795f736e79646572227d@ssh-remote%2B64.176.210.156/workspaces/ebay-balance/fastapi-webdriver-manager/dev.ipynb#X32sdnNjb2RlLXJlbW90ZQ%3D%3D?line=28'>29</a>\u001b[0m \u001b[39m# 获取最新的电子邮件 ID\u001b[39;00m\n\u001b[0;32m---> <a href='vscode-notebook-cell://attached-container%2B7b22636f6e7461696e65724e616d65223a222f66756e6e795f736e79646572227d@ssh-remote%2B64.176.210.156/workspaces/ebay-balance/fastapi-webdriver-manager/dev.ipynb#X32sdnNjb2RlLXJlbW90ZQ%3D%3D?line=29'>30</a>\u001b[0m latest_email_id \u001b[39m=\u001b[39m email_ids[\u001b[39m-\u001b[39;49m\u001b[39m1\u001b[39;49m]\n\u001b[1;32m     <a href='vscode-notebook-cell://attached-container%2B7b22636f6e7461696e65724e616d65223a222f66756e6e795f736e79646572227d@ssh-remote%2B64.176.210.156/workspaces/ebay-balance/fastapi-webdriver-manager/dev.ipynb#X32sdnNjb2RlLXJlbW90ZQ%3D%3D?line=31'>32</a>\u001b[0m \u001b[39m# 获取邮件详情\u001b[39;00m\n\u001b[1;32m     <a href='vscode-notebook-cell://attached-container%2B7b22636f6e7461696e65724e616d65223a222f66756e6e795f736e79646572227d@ssh-remote%2B64.176.210.156/workspaces/ebay-balance/fastapi-webdriver-manager/dev.ipynb#X32sdnNjb2RlLXJlbW90ZQ%3D%3D?line=33'>34</a>\u001b[0m status, msg_data \u001b[39m=\u001b[39m server\u001b[39m.\u001b[39mfetch(latest_email_id, \u001b[39m\"\u001b[39m\u001b[39m(BODY[HEADER.FIELDS (SUBJECT)])\u001b[39m\u001b[39m\"\u001b[39m)\n",
      "\u001b[0;31mIndexError\u001b[0m: list index out of range"
     ]
    }
   ],
   "source": [
    "import imaplib\n",
    "import re\n",
    "\n",
    "keywords: str = 'Your eBay security code'\n",
    "email: str = 'ballardchrtzpatrckj28616@nuyy.cc'\n",
    "\n",
    "EMAIL_SERVER = 'mail.nuyy.cc'\n",
    "EMAIL_USERNAME = 'mail@nuyy.cc'\n",
    "EMAIL_PASSWORD = 'Aa112112!'\n",
    "\n",
    "print(f'Start Get Verification Code...')\n",
    "# 连接到 IMAP 服务器\n",
    "server = imaplib.IMAP4_SSL(EMAIL_SERVER)\n",
    "\n",
    "# 登录\n",
    "server.login(EMAIL_USERNAME, EMAIL_PASSWORD)\n",
    "\n",
    "# 选择邮箱\n",
    "server.select(\"inbox\")\n",
    "\n",
    "# 搜索邮件\n",
    "criteria = f'(SUBJECT \"{keywords}\" TO \"{email}\")'\n",
    "print(f'Criteria: {criteria}')\n",
    "status, messages = server.search(None, criteria)\n",
    "\n",
    "# 获取邮件 ID 列表\n",
    "email_ids = messages[0].split()\n",
    "\n",
    "# 获取最新的电子邮件 ID\n",
    "latest_email_id = email_ids[-1]\n",
    "\n",
    "# 获取邮件详情\n",
    "\n",
    "status, msg_data = server.fetch(latest_email_id, \"(BODY[HEADER.FIELDS (SUBJECT)])\")\n",
    "\n",
    "match = re.search(r'(?<!\\d)\\d{6}(?!\\d)', msg_data[0][1].decode('utf-8'))\n",
    "if match:\n",
    "    verification_code = match.group()\n",
    "else:\n",
    "    verification_code = None\n",
    "\n",
    "# 关闭连接\n",
    "server.close()\n",
    "print(f'Verification Code: {verification_code}')"
   ]
  },
  {
   "cell_type": "code",
   "execution_count": 53,
   "id": "9ced3d72c3a7195",
   "metadata": {
    "ExecuteTime": {
     "end_time": "2023-09-24T13:19:02.757978Z",
     "start_time": "2023-09-24T13:19:02.751359Z"
    },
    "collapsed": false
   },
   "outputs": [
    {
     "data": {
      "text/plain": [
       "[b'1166']"
      ]
     },
     "execution_count": 53,
     "metadata": {},
     "output_type": "execute_result"
    }
   ],
   "source": [
    "email_ids"
   ]
  },
  {
   "cell_type": "code",
   "execution_count": 54,
   "id": "e606ca1e1eeb500b",
   "metadata": {
    "ExecuteTime": {
     "end_time": "2023-09-24T13:19:04.180671Z",
     "start_time": "2023-09-24T13:19:04.173189Z"
    },
    "collapsed": false
   },
   "outputs": [
    {
     "data": {
      "text/plain": [
       "'987995'"
      ]
     },
     "execution_count": 54,
     "metadata": {},
     "output_type": "execute_result"
    }
   ],
   "source": [
    "verification_code"
   ]
  },
  {
   "cell_type": "code",
   "execution_count": 47,
   "id": "ffe49095cf379707",
   "metadata": {
    "ExecuteTime": {
     "end_time": "2023-09-12T12:38:59.391554Z",
     "start_time": "2023-09-12T12:38:59.140837Z"
    },
    "collapsed": false
   },
   "outputs": [],
   "source": [
    "proxy_port = {\n",
    "    '26600': {},\n",
    "    '26601': {},\n",
    "    '26602': {},\n",
    "    '26603': {}\n",
    "}"
   ]
  },
  {
   "cell_type": "code",
   "execution_count": null,
   "id": "5a3783d1b560bdb8",
   "metadata": {
    "collapsed": false
   },
   "outputs": [],
   "source": []
  },
  {
   "cell_type": "code",
   "execution_count": 54,
   "id": "55afd78c182c7916",
   "metadata": {
    "ExecuteTime": {
     "end_time": "2023-09-13T09:17:14.784704Z",
     "start_time": "2023-09-13T09:17:14.783859Z"
    },
    "collapsed": false
   },
   "outputs": [
    {
     "data": {
      "text/plain": [
       "'26600'"
      ]
     },
     "execution_count": 54,
     "metadata": {},
     "output_type": "execute_result"
    }
   ],
   "source": [
    "list(proxy_port.keys())[0]"
   ]
  },
  {
   "cell_type": "code",
   "execution_count": 57,
   "id": "8c1b446567cbadad",
   "metadata": {
    "ExecuteTime": {
     "end_time": "2023-09-13T09:25:33.804215Z",
     "start_time": "2023-09-13T09:25:33.437772Z"
    },
    "collapsed": false
   },
   "outputs": [
    {
     "name": "stdout",
     "output_type": "stream",
     "text": [
      "['/Users/xiaoziqi/Applications/DataSpell.app/Contents/plugins/python-ce/helpers-pro/jupyter_debug', '/Users/xiaoziqi/Applications/DataSpell.app/Contents/plugins/python-ce/helpers/pydev', '/dev', '/usr/lib/python310.zip', '/usr/lib/python3.10', '/usr/lib/python3.10/lib-dynload', '', '/usr/local/lib/python3.10/dist-packages', '/usr/lib/python3/dist-packages', '/Users/xiaoziqi/app-dev/parttime/bb/20230905-ebay-balance/dev', '/Users/xiaoziqi/app-dev/parttime/bb/20230905-ebay-balance/dev/playwright_crawl']\n"
     ]
    }
   ],
   "source": [
    "import sys\n",
    "print(sys.path)"
   ]
  },
  {
   "cell_type": "code",
   "execution_count": 56,
   "id": "afe55270cc49dd95",
   "metadata": {
    "ExecuteTime": {
     "end_time": "2023-09-13T09:24:59.465574Z",
     "start_time": "2023-09-13T09:24:59.245678Z"
    },
    "collapsed": false
   },
   "outputs": [],
   "source": [
    "sys.path.append('/Users/xiaoziqi/app-dev/parttime/bb/20230905-ebay-balance/dev/playwright_crawl')"
   ]
  },
  {
   "cell_type": "code",
   "execution_count": null,
   "id": "c2764b49ed83acef",
   "metadata": {
    "collapsed": false
   },
   "outputs": [],
   "source": []
  },
  {
   "cell_type": "code",
   "execution_count": 5,
   "id": "ef3576fa7513afae",
   "metadata": {
    "ExecuteTime": {
     "start_time": "2023-09-14T09:15:50.452978Z"
    },
    "collapsed": false
   },
   "outputs": [
    {
     "data": {
      "text/plain": [
       "datetime.datetime(2023, 9, 14, 9, 15, 50, 353471)"
      ]
     },
     "execution_count": 5,
     "metadata": {},
     "output_type": "execute_result"
    }
   ],
   "source": [
    "from datetime import datetime\n",
    "datetime.now()"
   ]
  },
  {
   "cell_type": "code",
   "execution_count": null,
   "id": "324bc2655fa2712c",
   "metadata": {
    "collapsed": false,
    "is_executing": true
   },
   "outputs": [],
   "source": [
    "d = {'1': {'2': 2}}"
   ]
  },
  {
   "cell_type": "code",
   "execution_count": 39,
   "id": "6375fe4dd7150532",
   "metadata": {
    "ExecuteTime": {
     "end_time": "2023-09-24T03:42:46.007900Z",
     "start_time": "2023-09-24T03:42:45.999928Z"
    },
    "collapsed": false
   },
   "outputs": [],
   "source": [
    "import json\n",
    "j = '{\"a\": \"b\"}'\n",
    "d = json.loads(j)"
   ]
  },
  {
   "cell_type": "code",
   "execution_count": 43,
   "id": "2d7b67c029fe8727",
   "metadata": {
    "ExecuteTime": {
     "end_time": "2023-09-24T03:43:50.194685Z",
     "start_time": "2023-09-24T03:43:50.191554Z"
    },
    "collapsed": false
   },
   "outputs": [
    {
     "name": "stdout",
     "output_type": "stream",
     "text": [
      "b\n"
     ]
    }
   ],
   "source": [
    "for i in (set(['a', 'b']) - set(['a'])):\n",
    "    print(i)"
   ]
  },
  {
   "cell_type": "code",
   "execution_count": 1,
   "id": "130490a82f67ed5",
   "metadata": {
    "ExecuteTime": {
     "end_time": "2023-09-27T06:55:59.712102Z",
     "start_time": "2023-09-27T06:55:59.687886Z"
    },
    "collapsed": false
   },
   "outputs": [],
   "source": [
    "from fake_headers import Headers"
   ]
  },
  {
   "cell_type": "code",
   "execution_count": 32,
   "id": "9f80e91b044dac3",
   "metadata": {
    "ExecuteTime": {
     "end_time": "2023-09-27T12:46:22.257545Z",
     "start_time": "2023-09-27T12:46:22.253513Z"
    },
    "collapsed": false
   },
   "outputs": [
    {
     "data": {
      "text/plain": [
       "{'Accept': '*/*',\n",
       " 'Connection': 'keep-alive',\n",
       " 'User-Agent': 'Mozilla/5.0 (Macintosh; Intel Mac OS X 10_13_4; rv:52.0) Gecko/20100101 Firefox/52.0'}"
      ]
     },
     "execution_count": 32,
     "metadata": {},
     "output_type": "execute_result"
    }
   ],
   "source": [
    "header = Headers(\n",
    "    # headers=True  # generate misc headers\n",
    ")\n",
    "header.generate()"
   ]
  },
  {
   "cell_type": "code",
   "execution_count": 20,
   "id": "bd030c9984a8bded",
   "metadata": {
    "ExecuteTime": {
     "end_time": "2023-09-27T12:46:12.528391Z",
     "start_time": "2023-09-27T12:46:12.524993Z"
    },
    "collapsed": false
   },
   "outputs": [],
   "source": []
  },
  {
   "cell_type": "code",
   "execution_count": null,
   "id": "c5f36d1cce4044a4",
   "metadata": {
    "collapsed": false
   },
   "outputs": [],
   "source": []
  }
 ],
 "metadata": {
  "kernelspec": {
   "display_name": "Python 3",
   "language": "python",
   "name": "python3"
  },
  "language_info": {
   "codemirror_mode": {
    "name": "ipython",
    "version": 3
   },
   "file_extension": ".py",
   "mimetype": "text/x-python",
   "name": "python",
   "nbconvert_exporter": "python",
   "pygments_lexer": "ipython3",
   "version": "3.11.5"
  }
 },
 "nbformat": 4,
 "nbformat_minor": 5
}
