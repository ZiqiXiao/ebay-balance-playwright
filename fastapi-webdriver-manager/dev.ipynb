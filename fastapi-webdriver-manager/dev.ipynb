{
 "cells": [
  {
   "cell_type": "code",
   "execution_count": 13,
   "id": "initial_id",
   "metadata": {
    "ExecuteTime": {
     "end_time": "2023-09-14T05:52:51.277646Z",
     "start_time": "2023-09-14T05:52:51.199577Z"
    },
    "collapsed": true
   },
   "outputs": [
    {
     "data": {
      "text/plain": [
       "'114 Vald'"
      ]
     },
     "execution_count": 13,
     "metadata": {},
     "output_type": "execute_result"
    }
   ],
   "source": [
    "from faker import Faker\n",
    "\n",
    "faker = Faker()\n",
    "address = faker.address().split('\\n')[0].split(' ')[0:2]\n",
    "if len(address[0]) > 3:\n",
    "    address[0] = address[0][0:3]\n",
    "address[1] = address[1].replace(',', '')\n",
    "\n",
    "if len(address[1]) > 4:\n",
    "    address[1] = address[1][0:4]\n",
    "address = ' '.join(address)\n",
    "address"
   ]
  },
  {
   "cell_type": "code",
   "execution_count": 34,
   "id": "8c55c3355c534c6c",
   "metadata": {
    "ExecuteTime": {
     "end_time": "2023-09-08T09:11:09.662763Z",
     "start_time": "2023-09-08T09:11:09.459337Z"
    },
    "collapsed": false
   },
   "outputs": [
    {
     "name": "stdout",
     "output_type": "stream",
     "text": [
      "763 Rodriguez Wall Suite 845\n"
     ]
    }
   ],
   "source": [
    "print(fake.address().split('\\n')[0])"
   ]
  },
  {
   "cell_type": "code",
   "execution_count": 58,
   "id": "7abe5778f9d129e1",
   "metadata": {
    "ExecuteTime": {
     "end_time": "2023-09-14T05:52:01.596505Z",
     "start_time": "2023-09-14T05:52:01.595834Z"
    },
    "collapsed": false
   },
   "outputs": [
    {
     "name": "stdout",
     "output_type": "stream",
     "text": [
      "4254373948\n"
     ]
    }
   ],
   "source": [
    "print(fake.msisdn()[3:])"
   ]
  },
  {
   "cell_type": "code",
   "execution_count": 10,
   "id": "c5f36d1cce4044a4",
   "metadata": {
    "collapsed": false
   },
   "outputs": [],
   "source": [
    "from dotenv import load_dotenv\n",
    "import os\n",
    "load_dotenv('../playwright_crawl/.env')\n",
    "\n",
    "JM_USERNAME = os.getenv('JM_USERNAME')\n",
    "JM_PASSWORD = os.getenv('JM_PASSWORD') "
   ]
  },
  {
   "cell_type": "code",
   "execution_count": 12,
   "metadata": {},
   "outputs": [],
   "source": [
    "import requests\n",
    "# Login\n",
    "url = f'http://api.uoomsg.com/zc/data.php?code=signIn&user={JM_USERNAME}&password={JM_PASSWORD}'\n",
    "r = requests.get(url)\n",
    "\n",
    "JM_TOKEN = r.content.decode('utf-8')"
   ]
  },
  {
   "cell_type": "code",
   "execution_count": 16,
   "metadata": {},
   "outputs": [
    {
     "data": {
      "text/plain": [
       "b'18.60'"
      ]
     },
     "execution_count": 16,
     "metadata": {},
     "output_type": "execute_result"
    }
   ],
   "source": [
    "# Check Balance\n",
    "url = f'http://api.uoomsg.com/zc/data.php?code=leftAmount&token={JM_TOKEN}'\n",
    "r = requests.get(url)\n",
    "r.content"
   ]
  },
  {
   "cell_type": "code",
   "execution_count": 20,
   "metadata": {},
   "outputs": [
    {
     "data": {
      "text/plain": [
       "'16785753020'"
      ]
     },
     "execution_count": 20,
     "metadata": {},
     "output_type": "execute_result"
    }
   ],
   "source": [
    "# Get Phone Number\n",
    "url = f'http://api.uoomsg.com/zc/data.php?code=getPhone&token={JM_TOKEN}'\n",
    "r = requests.get(url)\n",
    "r.content.decode('utf-8')"
   ]
  },
  {
   "cell_type": "code",
   "execution_count": 21,
   "metadata": {},
   "outputs": [
    {
     "data": {
      "text/plain": [
       "'16785753020/0.2/【ebay】ebay： your security code is 573210. do not share this code.'"
      ]
     },
     "execution_count": 21,
     "metadata": {},
     "output_type": "execute_result"
    }
   ],
   "source": [
    "# Get text\n",
    "url = f'http://api.uoomsg.com/zc/data.php?code=getMsg&token={JM_TOKEN}&phone=16785753020&keyWord=ebay'\n",
    "r = requests.get(url)\n",
    "r.content.decode('utf-8')"
   ]
  },
  {
   "cell_type": "code",
   "execution_count": null,
   "metadata": {},
   "outputs": [],
   "source": []
  }
 ],
 "metadata": {
  "kernelspec": {
   "display_name": "Python 3",
   "language": "python",
   "name": "python3"
  },
  "language_info": {
   "codemirror_mode": {
    "name": "ipython",
    "version": 3
   },
   "file_extension": ".py",
   "mimetype": "text/x-python",
   "name": "python",
   "nbconvert_exporter": "python",
   "pygments_lexer": "ipython3",
   "version": "3.11.6"
  }
 },
 "nbformat": 4,
 "nbformat_minor": 5
}
