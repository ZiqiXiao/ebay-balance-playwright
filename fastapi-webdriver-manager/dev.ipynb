{
 "cells": [
  {
   "cell_type": "code",
   "execution_count": 1,
   "id": "initial_id",
   "metadata": {
    "collapsed": true,
    "ExecuteTime": {
     "end_time": "2023-09-14T05:52:51.277646Z",
     "start_time": "2023-09-14T05:52:51.199577Z"
    }
   },
   "outputs": [
    {
     "name": "stdout",
     "output_type": "stream",
     "text": [
      "Jessica\n",
      "Reynolds\n",
      "gthompson@nuyy.cc\n",
      "Aa112112!\n"
     ]
    }
   ],
   "source": [
    "from faker import Faker\n",
    "\n",
    "fake = Faker()\n",
    "print(fake.first_name())\n",
    "print(fake.last_name())\n",
    "print(fake.email().split('@')[0] + '@nuyy.cc')\n",
    "print('Aa112112!')"
   ]
  },
  {
   "cell_type": "code",
   "execution_count": 2,
   "outputs": [
    {
     "ename": "ModuleNotFoundError",
     "evalue": "No module named 'redis'",
     "output_type": "error",
     "traceback": [
      "\u001B[0;31m---------------------------------------------------------------------------\u001B[0m",
      "\u001B[0;31mModuleNotFoundError\u001B[0m                       Traceback (most recent call last)",
      "Cell \u001B[0;32mIn[2], line 1\u001B[0m\n\u001B[0;32m----> 1\u001B[0m \u001B[38;5;28;01mimport\u001B[39;00m \u001B[38;5;21;01mredis\u001B[39;00m\n",
      "\u001B[0;31mModuleNotFoundError\u001B[0m: No module named 'redis'"
     ]
    }
   ],
   "source": [
    "import redis"
   ],
   "metadata": {
    "collapsed": false,
    "ExecuteTime": {
     "end_time": "2023-09-14T05:53:05.025650Z",
     "start_time": "2023-09-14T05:53:04.820274Z"
    }
   },
   "id": "53988d9fa959c116"
  },
  {
   "cell_type": "code",
   "execution_count": 34,
   "outputs": [
    {
     "name": "stdout",
     "output_type": "stream",
     "text": [
      "763 Rodriguez Wall Suite 845\n"
     ]
    }
   ],
   "source": [
    "print(fake.address().split('\\n')[0])"
   ],
   "metadata": {
    "collapsed": false,
    "ExecuteTime": {
     "end_time": "2023-09-08T09:11:09.662763Z",
     "start_time": "2023-09-08T09:11:09.459337Z"
    }
   },
   "id": "8c55c3355c534c6c"
  },
  {
   "cell_type": "code",
   "execution_count": 58,
   "outputs": [
    {
     "name": "stdout",
     "output_type": "stream",
     "text": [
      "4254373948\n"
     ]
    }
   ],
   "source": [
    "print(fake.msisdn()[3:])"
   ],
   "metadata": {
    "collapsed": false,
    "ExecuteTime": {
     "end_time": "2023-09-14T05:52:01.596505Z",
     "start_time": "2023-09-14T05:52:01.595834Z"
    }
   },
   "id": "7abe5778f9d129e1"
  },
  {
   "cell_type": "code",
   "execution_count": 28,
   "outputs": [],
   "source": [
    "from datetime import datetime\n",
    "a = datetime.now().strftime(\"%Y-%m-%d %H:%M:%S\")"
   ],
   "metadata": {
    "collapsed": false,
    "ExecuteTime": {
     "end_time": "2023-09-07T09:37:50.355750Z",
     "start_time": "2023-09-07T09:37:50.028252Z"
    }
   },
   "id": "dc27a25553397d9d"
  },
  {
   "cell_type": "code",
   "execution_count": 29,
   "outputs": [
    {
     "data": {
      "text/plain": "2"
     },
     "execution_count": 29,
     "metadata": {},
     "output_type": "execute_result"
    }
   ],
   "source": [
    "dif = datetime.now() - datetime.strptime(a, \"%Y-%m-%d %H:%M:%S\")\n",
    "dif.seconds"
   ],
   "metadata": {
    "collapsed": false,
    "ExecuteTime": {
     "end_time": "2023-09-07T09:37:51.246294Z",
     "start_time": "2023-09-07T09:37:51.148764Z"
    }
   },
   "id": "f22bc5c8f9a63cc3"
  },
  {
   "cell_type": "code",
   "execution_count": 51,
   "outputs": [],
   "source": [
    "import imaplib\n",
    "import re\n",
    "\n",
    "EMAIL_SERVER = 'mail.nuyy.cc'\n",
    "EMAIL_USERNAME = 'mail@nuyy.cc'\n",
    "EMAIL_PASSWORD = 'Aa112112!'\n",
    "\n",
    "server = imaplib.IMAP4_SSL(EMAIL_SERVER)\n",
    "\n",
    "# 登录\n",
    "server.login(EMAIL_USERNAME, EMAIL_PASSWORD)\n",
    "\n",
    "# 选择邮箱\n",
    "server.select(\"inbox\")\n",
    "\n",
    "# 搜索邮件\n",
    "status, messages = server.search(None, '(SUBJECT \"Your eBay security code\" TO \"sarah98@nuyy.cc\")')\n",
    "\n",
    "# 获取邮件 ID 列表\n",
    "email_ids = messages[0].split()\n",
    "\n",
    "# 获取最新的电子邮件 ID\n",
    "latest_email_id = email_ids[-1]\n",
    "\n",
    "# 获取邮件详情\n",
    "status, msg_data = server.fetch(latest_email_id, \"(BODY[HEADER.FIELDS (SUBJECT)])\")\n",
    "\n",
    "match = re.search(r'(?<!\\d)\\d{6}(?!\\d)', msg_data[0][1].decode('utf-8'))\n",
    "if match:\n",
    "    verification_code = match.group()\n",
    "else:\n",
    "    verification_code = None"
   ],
   "metadata": {
    "collapsed": false,
    "ExecuteTime": {
     "end_time": "2023-09-24T13:18:56.173265Z",
     "start_time": "2023-09-24T13:18:55.475791Z"
    }
   },
   "id": "2c34ee27bc769e85"
  },
  {
   "cell_type": "code",
   "execution_count": 53,
   "outputs": [
    {
     "data": {
      "text/plain": "[b'1166']"
     },
     "execution_count": 53,
     "metadata": {},
     "output_type": "execute_result"
    }
   ],
   "source": [
    "email_ids"
   ],
   "metadata": {
    "collapsed": false,
    "ExecuteTime": {
     "end_time": "2023-09-24T13:19:02.757978Z",
     "start_time": "2023-09-24T13:19:02.751359Z"
    }
   },
   "id": "9ced3d72c3a7195"
  },
  {
   "cell_type": "code",
   "execution_count": 54,
   "outputs": [
    {
     "data": {
      "text/plain": "'987995'"
     },
     "execution_count": 54,
     "metadata": {},
     "output_type": "execute_result"
    }
   ],
   "source": [
    "verification_code"
   ],
   "metadata": {
    "collapsed": false,
    "ExecuteTime": {
     "end_time": "2023-09-24T13:19:04.180671Z",
     "start_time": "2023-09-24T13:19:04.173189Z"
    }
   },
   "id": "e606ca1e1eeb500b"
  },
  {
   "cell_type": "code",
   "execution_count": 47,
   "outputs": [],
   "source": [
    "proxy_port = {\n",
    "    '26600': {},\n",
    "    '26601': {},\n",
    "    '26602': {},\n",
    "    '26603': {}\n",
    "}"
   ],
   "metadata": {
    "collapsed": false,
    "ExecuteTime": {
     "end_time": "2023-09-12T12:38:59.391554Z",
     "start_time": "2023-09-12T12:38:59.140837Z"
    }
   },
   "id": "ffe49095cf379707"
  },
  {
   "cell_type": "code",
   "execution_count": null,
   "outputs": [],
   "source": [],
   "metadata": {
    "collapsed": false
   },
   "id": "5a3783d1b560bdb8"
  },
  {
   "cell_type": "code",
   "execution_count": 54,
   "outputs": [
    {
     "data": {
      "text/plain": "'26600'"
     },
     "execution_count": 54,
     "metadata": {},
     "output_type": "execute_result"
    }
   ],
   "source": [
    "list(proxy_port.keys())[0]"
   ],
   "metadata": {
    "collapsed": false,
    "ExecuteTime": {
     "end_time": "2023-09-13T09:17:14.784704Z",
     "start_time": "2023-09-13T09:17:14.783859Z"
    }
   },
   "id": "55afd78c182c7916"
  },
  {
   "cell_type": "code",
   "execution_count": 57,
   "outputs": [
    {
     "name": "stdout",
     "output_type": "stream",
     "text": [
      "['/Users/xiaoziqi/Applications/DataSpell.app/Contents/plugins/python-ce/helpers-pro/jupyter_debug', '/Users/xiaoziqi/Applications/DataSpell.app/Contents/plugins/python-ce/helpers/pydev', '/dev', '/usr/lib/python310.zip', '/usr/lib/python3.10', '/usr/lib/python3.10/lib-dynload', '', '/usr/local/lib/python3.10/dist-packages', '/usr/lib/python3/dist-packages', '/Users/xiaoziqi/app-dev/parttime/bb/20230905-ebay-balance/dev', '/Users/xiaoziqi/app-dev/parttime/bb/20230905-ebay-balance/dev/playwright_crawl']\n"
     ]
    }
   ],
   "source": [
    "import sys\n",
    "print(sys.path)"
   ],
   "metadata": {
    "collapsed": false,
    "ExecuteTime": {
     "end_time": "2023-09-13T09:25:33.804215Z",
     "start_time": "2023-09-13T09:25:33.437772Z"
    }
   },
   "id": "8c1b446567cbadad"
  },
  {
   "cell_type": "code",
   "execution_count": 56,
   "outputs": [],
   "source": [
    "sys.path.append('/Users/xiaoziqi/app-dev/parttime/bb/20230905-ebay-balance/dev/playwright_crawl')"
   ],
   "metadata": {
    "collapsed": false,
    "ExecuteTime": {
     "end_time": "2023-09-13T09:24:59.465574Z",
     "start_time": "2023-09-13T09:24:59.245678Z"
    }
   },
   "id": "afe55270cc49dd95"
  },
  {
   "cell_type": "code",
   "execution_count": null,
   "outputs": [],
   "source": [],
   "metadata": {
    "collapsed": false
   },
   "id": "c2764b49ed83acef"
  },
  {
   "cell_type": "code",
   "execution_count": 5,
   "outputs": [
    {
     "data": {
      "text/plain": "datetime.datetime(2023, 9, 14, 9, 15, 50, 353471)"
     },
     "execution_count": 5,
     "metadata": {},
     "output_type": "execute_result"
    }
   ],
   "source": [
    "from datetime import datetime\n",
    "datetime.now()"
   ],
   "metadata": {
    "collapsed": false,
    "ExecuteTime": {
     "start_time": "2023-09-14T09:15:50.452978Z"
    }
   },
   "id": "ef3576fa7513afae"
  },
  {
   "cell_type": "code",
   "execution_count": null,
   "outputs": [],
   "source": [
    "d = {'1': {'2': 2}}"
   ],
   "metadata": {
    "collapsed": false,
    "is_executing": true
   },
   "id": "324bc2655fa2712c"
  },
  {
   "cell_type": "code",
   "execution_count": 39,
   "outputs": [],
   "source": [
    "import json\n",
    "j = '{\"a\": \"b\"}'\n",
    "d = json.loads(j)"
   ],
   "metadata": {
    "collapsed": false,
    "ExecuteTime": {
     "end_time": "2023-09-24T03:42:46.007900Z",
     "start_time": "2023-09-24T03:42:45.999928Z"
    }
   },
   "id": "6375fe4dd7150532"
  },
  {
   "cell_type": "code",
   "execution_count": 43,
   "outputs": [
    {
     "name": "stdout",
     "output_type": "stream",
     "text": [
      "b\n"
     ]
    }
   ],
   "source": [
    "for i in (set(['a', 'b']) - set(['a'])):\n",
    "    print(i)"
   ],
   "metadata": {
    "collapsed": false,
    "ExecuteTime": {
     "end_time": "2023-09-24T03:43:50.194685Z",
     "start_time": "2023-09-24T03:43:50.191554Z"
    }
   },
   "id": "2d7b67c029fe8727"
  },
  {
   "cell_type": "code",
   "execution_count": 1,
   "outputs": [],
   "source": [
    "from fake_headers import Headers"
   ],
   "metadata": {
    "collapsed": false,
    "ExecuteTime": {
     "end_time": "2023-09-27T06:55:59.712102Z",
     "start_time": "2023-09-27T06:55:59.687886Z"
    }
   },
   "id": "130490a82f67ed5"
  },
  {
   "cell_type": "code",
   "execution_count": 32,
   "outputs": [
    {
     "data": {
      "text/plain": "{'Accept': '*/*',\n 'Connection': 'keep-alive',\n 'User-Agent': 'Mozilla/5.0 (Macintosh; Intel Mac OS X 10_13_4; rv:52.0) Gecko/20100101 Firefox/52.0'}"
     },
     "execution_count": 32,
     "metadata": {},
     "output_type": "execute_result"
    }
   ],
   "source": [
    "header = Headers(\n",
    "    # headers=True  # generate misc headers\n",
    ")\n",
    "header.generate()"
   ],
   "metadata": {
    "collapsed": false,
    "ExecuteTime": {
     "end_time": "2023-09-27T12:46:22.257545Z",
     "start_time": "2023-09-27T12:46:22.253513Z"
    }
   },
   "id": "9f80e91b044dac3"
  },
  {
   "cell_type": "code",
   "execution_count": 20,
   "outputs": [],
   "source": [],
   "metadata": {
    "collapsed": false,
    "ExecuteTime": {
     "end_time": "2023-09-27T12:46:12.528391Z",
     "start_time": "2023-09-27T12:46:12.524993Z"
    }
   },
   "id": "bd030c9984a8bded"
  },
  {
   "cell_type": "code",
   "execution_count": null,
   "outputs": [],
   "source": [],
   "metadata": {
    "collapsed": false
   },
   "id": "c5f36d1cce4044a4"
  }
 ],
 "metadata": {
  "kernelspec": {
   "display_name": "Python 3",
   "language": "python",
   "name": "python3"
  },
  "language_info": {
   "codemirror_mode": {
    "name": "ipython",
    "version": 2
   },
   "file_extension": ".py",
   "mimetype": "text/x-python",
   "name": "python",
   "nbconvert_exporter": "python",
   "pygments_lexer": "ipython2",
   "version": "2.7.6"
  }
 },
 "nbformat": 4,
 "nbformat_minor": 5
}
